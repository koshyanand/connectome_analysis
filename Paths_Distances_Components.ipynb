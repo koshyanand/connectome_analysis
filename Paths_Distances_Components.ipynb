{
 "cells": [
  {
   "cell_type": "code",
   "execution_count": 1,
   "metadata": {},
   "outputs": [],
   "source": [
    "import pandas as pd\n",
    "import matplotlib.pyplot as plt\n",
    "import numpy as np\n",
    "import igraph as ig\n",
    "import networkx as nx\n",
    "from utils import get_max_flow,load_graph, load_nx_graph\n",
    "import math"
   ]
  },
  {
   "cell_type": "code",
   "execution_count": 13,
   "metadata": {},
   "outputs": [
    {
     "name": "stdout",
     "output_type": "stream",
     "text": [
      "Total number of different edges : 756\n"
     ]
    }
   ],
   "source": [
    "chimp_graph, human_graph = load_graph()\n"
   ]
  },
  {
   "cell_type": "code",
   "execution_count": 15,
   "metadata": {},
   "outputs": [
    {
     "ename": "AttributeError",
     "evalue": "module 'igraph' has no attribute 'igraph_community_edge_betweenness'",
     "output_type": "error",
     "traceback": [
      "\u001b[0;31m---------------------------------------------------------------------------\u001b[0m",
      "\u001b[0;31mAttributeError\u001b[0m                            Traceback (most recent call last)",
      "\u001b[0;32m<ipython-input-15-758560b5ae1b>\u001b[0m in \u001b[0;36m<module>\u001b[0;34m\u001b[0m\n\u001b[0;32m----> 1\u001b[0;31m \u001b[0moutput\u001b[0m \u001b[0;34m=\u001b[0m \u001b[0mig\u001b[0m\u001b[0;34m.\u001b[0m\u001b[0migraph_community_edge_betweenness\u001b[0m\u001b[0;34m(\u001b[0m\u001b[0mchimp_graph\u001b[0m\u001b[0;34m)\u001b[0m\u001b[0;34m\u001b[0m\u001b[0;34m\u001b[0m\u001b[0m\n\u001b[0m\u001b[1;32m      2\u001b[0m \u001b[0mchimp_components\u001b[0m \u001b[0;34m=\u001b[0m \u001b[0mchimp_graph\u001b[0m\u001b[0;34m.\u001b[0m\u001b[0mclusters\u001b[0m\u001b[0;34m(\u001b[0m\u001b[0;34m)\u001b[0m\u001b[0;34m\u001b[0m\u001b[0;34m\u001b[0m\u001b[0m\n\u001b[1;32m      3\u001b[0m \u001b[0mcomponent_sizes\u001b[0m \u001b[0;34m=\u001b[0m \u001b[0mchimp_components\u001b[0m\u001b[0;34m.\u001b[0m\u001b[0msizes\u001b[0m\u001b[0;34m(\u001b[0m\u001b[0;34m)\u001b[0m\u001b[0;34m\u001b[0m\u001b[0;34m\u001b[0m\u001b[0m\n\u001b[1;32m      4\u001b[0m \u001b[0mprint\u001b[0m\u001b[0;34m(\u001b[0m\u001b[0;34m\"component sizes, in order of component ID: \"\u001b[0m\u001b[0;34m)\u001b[0m\u001b[0;34m\u001b[0m\u001b[0;34m\u001b[0m\u001b[0m\n\u001b[1;32m      5\u001b[0m \u001b[0mprint\u001b[0m\u001b[0;34m(\u001b[0m\u001b[0mcomponent_sizes\u001b[0m\u001b[0;34m)\u001b[0m\u001b[0;34m\u001b[0m\u001b[0;34m\u001b[0m\u001b[0m\n",
      "\u001b[0;31mAttributeError\u001b[0m: module 'igraph' has no attribute 'igraph_community_edge_betweenness'"
     ]
    }
   ],
   "source": [
    "output = ig.igraph_community_edge_betweenness(chimp_graph)\n",
    "chimp_components = chimp_graph.clusters()\n",
    "component_sizes = chimp_components.sizes()\n",
    "print(\"component sizes, in order of component ID: \")\n",
    "print(component_sizes)\n",
    "# find its maximum value using the `max` built-in function\n",
    "print(\"maximum component size: \")\n",
    "print(max(component_sizes))\n",
    "\n",
    "component_ids = chimp_components.membership\n",
    "\n",
    "one_component_inds = [vertex_index for vertex_index, component_id in \n",
    "                        enumerate(component_ids) if component_id == 0]\n",
    "print(chimp_graph.vs(one_component_inds)[\"label\"])\n",
    "\n",
    "human_components = human_graph.clusters()\n",
    "component_sizes = human_components.sizes()\n",
    "print(\"component sizes, in order of component ID: \")\n",
    "print(component_sizes)\n",
    "\n",
    "# find its maximum value using the `max` built-in function\n",
    "print(\"maximum component size: \")\n",
    "max(component_sizes)\n",
    "\n",
    "component_ids = human_components.membership\n",
    "\n",
    "one_component_inds = [vertex_index for vertex_index, component_id in \n",
    "                        enumerate(component_ids) if component_id == 0]\n",
    "print(human_graph.vs(one_component_inds)[\"label\"])"
   ]
  },
  {
   "cell_type": "code",
   "execution_count": 2,
   "metadata": {},
   "outputs": [
    {
     "name": "stdout",
     "output_type": "stream",
     "text": [
      "Total number of different edges : 756\n"
     ]
    }
   ],
   "source": [
    "chimp_graph, human_graph = load_nx_graph()\n"
   ]
  },
  {
   "cell_type": "code",
   "execution_count": 5,
   "metadata": {},
   "outputs": [
    {
     "name": "stdout",
     "output_type": "stream",
     "text": [
      "2.02660406885759\n",
      "2.039319248826291\n"
     ]
    }
   ],
   "source": [
    "print(nx.algorithms.shortest_paths.generic.average_shortest_path_length(chimp_graph))\n",
    "print(nx.algorithms.shortest_paths.generic.average_shortest_path_length(human_graph))"
   ]
  },
  {
   "cell_type": "code",
   "execution_count": 8,
   "metadata": {},
   "outputs": [
    {
     "name": "stdout",
     "output_type": "stream",
     "text": [
      "31.77777777777778\n",
      "33.0\n"
     ]
    }
   ],
   "source": [
    "print(np.mean(np.array(chimp_graph.degree())))\n",
    "print(np.mean(np.array(human_graph.degree())))\n"
   ]
  },
  {
   "cell_type": "code",
   "execution_count": 9,
   "metadata": {},
   "outputs": [
    {
     "name": "stdout",
     "output_type": "stream",
     "text": [
      "1010\n",
      "1098\n"
     ]
    }
   ],
   "source": [
    "print(len(chimp_graph.edges()))\n",
    "print(len(human_graph.edges()))\n"
   ]
  },
  {
   "cell_type": "code",
   "execution_count": null,
   "metadata": {},
   "outputs": [],
   "source": []
  }
 ],
 "metadata": {
  "kernelspec": {
   "display_name": "Python 3",
   "language": "python",
   "name": "python3"
  },
  "language_info": {
   "codemirror_mode": {
    "name": "ipython",
    "version": 3
   },
   "file_extension": ".py",
   "mimetype": "text/x-python",
   "name": "python",
   "nbconvert_exporter": "python",
   "pygments_lexer": "ipython3",
   "version": "3.7.9"
  }
 },
 "nbformat": 4,
 "nbformat_minor": 4
}
