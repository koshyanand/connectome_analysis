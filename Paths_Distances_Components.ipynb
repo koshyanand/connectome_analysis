{
 "cells": [
  {
   "cell_type": "code",
   "execution_count": 1,
   "metadata": {},
   "outputs": [],
   "source": [
    "import pandas as pd\n",
    "import matplotlib.pyplot as plt\n",
    "import numpy as np\n",
    "import igraph as ig\n",
    "import networkx as nx\n",
    "from utils import get_max_flow,load_graph \n",
    "import math"
   ]
  },
  {
   "cell_type": "code",
   "execution_count": 2,
   "metadata": {},
   "outputs": [
    {
     "name": "stdout",
     "output_type": "stream",
     "text": [
      "Total number of different edges : 756\n"
     ]
    }
   ],
   "source": [
    "chimp_graph, human_graph = load_graph()\n"
   ]
  },
  {
   "cell_type": "code",
   "execution_count": 11,
   "metadata": {},
   "outputs": [
    {
     "name": "stdout",
     "output_type": "stream",
     "text": [
      "component sizes, in order of component ID: \n",
      "[1, 71]\n",
      "maximum component size: \n",
      "71\n",
      "[array(['lFB'], dtype=object)]\n",
      "component sizes, in order of component ID: \n",
      "[1, 71]\n",
      "maximum component size: \n",
      "[array(['lFB'], dtype=object), array(['lFBA'], dtype=object), array(['lFC'], dtype=object), array(['lFCBm'], dtype=object), array(['lFDdelta'], dtype=object), array(['lFDL'], dtype=object), array(['lFDm'], dtype=object), array(['lFDp'], dtype=object), array(['lFE'], dtype=object), array(['lFF'], dtype=object), array(['lFG'], dtype=object), array(['lFL'], dtype=object), array(['lH'], dtype=object), array(['lIA'], dtype=object), array(['lIB'], dtype=object), array(['lLA'], dtype=object), array(['lLC1'], dtype=object), array(['lLC2'], dtype=object), array(['lOA'], dtype=object), array(['lOB'], dtype=object), array(['lOC'], dtype=object), array(['lPB'], dtype=object), array(['lPC'], dtype=object), array(['lPEm'], dtype=object), array(['lPEp'], dtype=object), array(['lPF'], dtype=object), array(['lPFD'], dtype=object), array(['lPG'], dtype=object), array(['lPH'], dtype=object), array(['lTA'], dtype=object), array(['lTB'], dtype=object), array(['lTE1'], dtype=object), array(['lTE2'], dtype=object), array(['lTF'], dtype=object), array(['lTG'], dtype=object), array(['rFA'], dtype=object), array(['rFB'], dtype=object), array(['rFBA'], dtype=object), array(['rFC'], dtype=object), array(['rFCBm'], dtype=object), array(['rFDdelta'], dtype=object), array(['rFDL'], dtype=object), array(['rFDm'], dtype=object), array(['rFDp'], dtype=object), array(['rFE'], dtype=object), array(['rFF'], dtype=object), array(['rFG'], dtype=object), array(['rFL'], dtype=object), array(['rH'], dtype=object), array(['rIA'], dtype=object), array(['rIB'], dtype=object), array(['rLA'], dtype=object), array(['rLC1'], dtype=object), array(['rLC2'], dtype=object), array(['rOA'], dtype=object), array(['rOB'], dtype=object), array(['rOC'], dtype=object), array(['rPB'], dtype=object), array(['rPC'], dtype=object), array(['rPEm'], dtype=object), array(['rPEp'], dtype=object), array(['rPF'], dtype=object), array(['rPFD'], dtype=object), array(['rPG'], dtype=object), array(['rPH'], dtype=object), array(['rTA'], dtype=object), array(['rTB'], dtype=object), array(['rTE1'], dtype=object), array(['rTE2'], dtype=object), array(['rTF'], dtype=object), array(['rTG'], dtype=object)]\n"
     ]
    }
   ],
   "source": [
    "chimp_components = chimp_graph.clusters()\n",
    "component_sizes = chimp_components.sizes()\n",
    "print(\"component sizes, in order of component ID: \")\n",
    "print(component_sizes)\n",
    "# find its maximum value using the `max` built-in function\n",
    "print(\"maximum component size: \")\n",
    "print(max(component_sizes))\n",
    "\n",
    "component_ids = chimp_components.membership\n",
    "\n",
    "one_component_inds = [vertex_index for vertex_index, component_id in \n",
    "                        enumerate(component_ids) if component_id == 0]\n",
    "print(chimp_graph.vs(one_component_inds)[\"label\"])\n",
    "\n",
    "human_components = human_graph.clusters()\n",
    "component_sizes = human_components.sizes()\n",
    "print(\"component sizes, in order of component ID: \")\n",
    "print(component_sizes)\n",
    "\n",
    "# find its maximum value using the `max` built-in function\n",
    "print(\"maximum component size: \")\n",
    "max(component_sizes)\n",
    "\n",
    "component_ids = human_components.membership\n",
    "\n",
    "one_component_inds = [vertex_index for vertex_index, component_id in \n",
    "                        enumerate(component_ids) if component_id == 0]\n",
    "print(human_graph.vs(one_component_inds)[\"label\"])"
   ]
  },
  {
   "cell_type": "code",
   "execution_count": null,
   "metadata": {},
   "outputs": [],
   "source": []
  }
 ],
 "metadata": {
  "kernelspec": {
   "display_name": "Python 3",
   "language": "python",
   "name": "python3"
  },
  "language_info": {
   "codemirror_mode": {
    "name": "ipython",
    "version": 3
   },
   "file_extension": ".py",
   "mimetype": "text/x-python",
   "name": "python",
   "nbconvert_exporter": "python",
   "pygments_lexer": "ipython3",
   "version": "3.7.9"
  }
 },
 "nbformat": 4,
 "nbformat_minor": 4
}
