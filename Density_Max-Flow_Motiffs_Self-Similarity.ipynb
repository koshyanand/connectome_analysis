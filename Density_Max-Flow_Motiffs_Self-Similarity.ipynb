{
 "cells": [
  {
   "cell_type": "code",
   "execution_count": 11,
   "metadata": {},
   "outputs": [],
   "source": [
    "import pandas as pd\n",
    "import matplotlib.pyplot as plt\n",
    "import numpy as np\n",
    "import igraph as ig\n",
    "import networkx as nx\n",
    "from utils import get_max_flow,load_graph \n",
    "import math"
   ]
  },
  {
   "cell_type": "code",
   "execution_count": 2,
   "metadata": {},
   "outputs": [
    {
     "name": "stdout",
     "output_type": "stream",
     "text": [
      "Total number of different edges : 756\n"
     ]
    }
   ],
   "source": [
    "chimp_graph, human_graph = load_graph()"
   ]
  },
  {
   "cell_type": "code",
   "execution_count": 3,
   "metadata": {},
   "outputs": [
    {
     "name": "stdout",
     "output_type": "stream",
     "text": [
      "Density of chimp connectome : 0.19757433489827858\n",
      "Density of human connectome : 0.2147887323943662\n"
     ]
    }
   ],
   "source": [
    "print(f\"Density of chimp connectome : {chimp_graph.density()}\")\n",
    "print(f\"Density of human connectome : {human_graph.density()}\")"
   ]
  },
  {
   "cell_type": "code",
   "execution_count": 8,
   "metadata": {},
   "outputs": [
    {
     "name": "stdout",
     "output_type": "stream",
     "text": [
      "Chimpanzee Maximum flow value is: 31.0 for pair of vertices: 55_to_19\n"
     ]
    }
   ],
   "source": [
    "c_max_flow = get_max_flow(chimp_graph)\n",
    "print(f'Chimpanzee Maximum flow value is: {str(c_max_flow[0][0])} for pair of vertices: {c_max_flow[0][1]}_to_{c_max_flow[0][2]}')"
   ]
  },
  {
   "cell_type": "code",
   "execution_count": 9,
   "metadata": {},
   "outputs": [
    {
     "name": "stdout",
     "output_type": "stream",
     "text": [
      "Human aximum flow value is: 29.0 for pair of vertices: 61_to_25\n"
     ]
    }
   ],
   "source": [
    "h_max_flow = get_max_flow(human_graph)\n",
    "print(f'Human aximum flow value is: {str(h_max_flow[0][0])} for pair of vertices: {h_max_flow[0][1]}_to_{h_max_flow[0][2]}')"
   ]
  },
  {
   "cell_type": "code",
   "execution_count": 23,
   "metadata": {},
   "outputs": [
    {
     "name": "stdout",
     "output_type": "stream",
     "text": [
      "[nan, nan, 0, nan, 0, 101, 39, 0, 52, 0, 4064, 0, 0, 0, 0, 1267]\n",
      "The most frequent 3-motiff for the chimpanzees are the isomorphism class(0-indexed) :  10\n",
      "The most frequent 4-motiff for the chimpanzees are the isomorphism class(0-indexed) :  125\n",
      "[nan, nan, 0, nan, 0, 105, 88, 0, 102, 0, 4436, 0, 0, 0, 0, 1493]\n",
      "The most frequent 3-motiff for the chimpanzees are the isomorphism class(0-indexed) :  10\n",
      "The most frequent 4-motiff for the chimpanzees are the isomorphism class(0-indexed) :  125\n"
     ]
    }
   ],
   "source": [
    "motif_3_vertex = chimp_graph.motifs_randesu(size=3)\n",
    "print(motif_3_vertex)\n",
    "max_motiff = np.argmax(np.array([0 if math.isnan(count) else count for count in motif_3_vertex]))\n",
    "print(\"The most frequent 3-motiff for the chimpanzees are the isomorphism class(0-indexed) : \", max_motiff)\n",
    "\n",
    "motif_4_vertex = chimp_graph.motifs_randesu(size=4)\n",
    "max_motiff = np.argmax(np.array([0 if math.isnan(count) else count for count in motif_4_vertex]))\n",
    "print(\"The most frequent 4-motiff for the chimpanzees are the isomorphism class(0-indexed) : \", max_motiff)\n",
    "\n",
    "motif_3_vertex = human_graph.motifs_randesu(size=3)\n",
    "print(motif_3_vertex)\n",
    "max_motiff = np.argmax(np.array([0 if math.isnan(count) else count for count in motif_3_vertex]))\n",
    "print(\"The most frequent 3-motiff for the chimpanzees are the isomorphism class(0-indexed) : \", max_motiff)\n",
    "\n",
    "motif_4_vertex = human_graph.motifs_randesu(size=4)\n",
    "max_motiff = np.argmax(np.array([0 if math.isnan(count) else count for count in motif_4_vertex]))\n",
    "print(\"The most frequent 4-motiff for the chimpanzees are the isomorphism class(0-indexed) : \", max_motiff)\n"
   ]
  },
  {
   "cell_type": "code",
   "execution_count": null,
   "metadata": {},
   "outputs": [],
   "source": []
  }
 ],
 "metadata": {
  "kernelspec": {
   "display_name": "Python 3",
   "language": "python",
   "name": "python3"
  },
  "language_info": {
   "codemirror_mode": {
    "name": "ipython",
    "version": 3
   },
   "file_extension": ".py",
   "mimetype": "text/x-python",
   "name": "python",
   "nbconvert_exporter": "python",
   "pygments_lexer": "ipython3",
   "version": "3.7.9"
  }
 },
 "nbformat": 4,
 "nbformat_minor": 4
}
