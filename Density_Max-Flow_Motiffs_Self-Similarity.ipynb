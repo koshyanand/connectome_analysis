{
 "cells": [
  {
   "cell_type": "code",
   "execution_count": 1,
   "metadata": {},
   "outputs": [],
   "source": [
    "import pandas as pd\n",
    "import matplotlib.pyplot as plt\n",
    "import numpy as np\n",
    "import igraph as ig\n",
    "import networkx as nx\n",
    "from utils import get_max_flow,load_graph, generate_randomized_graph\n",
    "from methods import get_motifs, get_label\n",
    "import math"
   ]
  },
  {
   "cell_type": "code",
   "execution_count": 8,
   "metadata": {},
   "outputs": [
    {
     "name": "stdout",
     "output_type": "stream",
     "text": [
      "Total number of different edges : 756\n",
      "['lFA' 'lFB' 'lFBA' 'lFC' 'lFCBm' 'lFDdelta' 'lFDL' 'lFDm' 'lFDp' 'lFE'\n",
      " 'lFF' 'lFG' 'lFL' 'lH' 'lIA' 'lIB' 'lLA' 'lLC1' 'lLC2' 'lOA' 'lOB' 'lOC'\n",
      " 'lPB' 'lPC' 'lPEm' 'lPEp' 'lPF' 'lPFD' 'lPG' 'lPH' 'lTA' 'lTB' 'lTE1'\n",
      " 'lTE2' 'lTF' 'lTG' 'rFA' 'rFB' 'rFBA' 'rFC' 'rFCBm' 'rFDdelta' 'rFDL'\n",
      " 'rFDm' 'rFDp' 'rFE' 'rFF' 'rFG' 'rFL' 'rH' 'rIA' 'rIB' 'rLA' 'rLC1'\n",
      " 'rLC2' 'rOA' 'rOB' 'rOC' 'rPB' 'rPC' 'rPEm' 'rPEp' 'rPF' 'rPFD' 'rPG'\n",
      " 'rPH' 'rTA' 'rTB' 'rTE1' 'rTE2' 'rTF' 'rTG']\n"
     ]
    }
   ],
   "source": [
    "chimp_graph, human_graph = load_graph()\n",
    "c_label, h_label = get_label(True), get_label(False)\n",
    "print(c_label)"
   ]
  },
  {
   "cell_type": "code",
   "execution_count": 3,
   "metadata": {},
   "outputs": [],
   "source": [
    "c_list = generate_randomized_graph(chimp_graph, 1000)\n",
    "h_list = generate_randomized_graph(human_graph, 1000)"
   ]
  },
  {
   "cell_type": "code",
   "execution_count": 4,
   "metadata": {},
   "outputs": [
    {
     "name": "stdout",
     "output_type": "stream",
     "text": [
      "Density of chimp connectome : 0.19757433489827858\n",
      "Density of human connectome : 0.2147887323943662\n",
      "Density of random chimp connectome : 0.19757433489827855\n",
      "Density of random human connectome : 0.21478873239436616\n"
     ]
    }
   ],
   "source": [
    "avg_chimp_rand_density = np.mean(np.array([g.density() for g in c_list]))\n",
    "avg_human_rand_density = np.mean(np.array([g.density() for g in h_list]))\n",
    "\n",
    "print(f\"Density of chimp connectome : {chimp_graph.density()}\")\n",
    "print(f\"Density of human connectome : {human_graph.density()}\")\n",
    "\n",
    "print(f\"Density of random chimp connectome : {avg_chimp_rand_density}\")\n",
    "print(f\"Density of random human connectome : {avg_human_rand_density}\")"
   ]
  },
  {
   "cell_type": "code",
   "execution_count": 5,
   "metadata": {},
   "outputs": [
    {
     "name": "stdout",
     "output_type": "stream",
     "text": [
      "Chimpanzee Maximum flow value is: 31.0 for pair of vertices: rOA_to_lOA\n"
     ]
    }
   ],
   "source": [
    "c_max_flow = get_max_flow(chimp_graph)\n",
    "print(f'Chimpanzee Maximum flow value is: {str(c_max_flow[0][0])} for pair of vertices: {c_label[c_max_flow[0][1]]}_to_{c_label[c_max_flow[0][2]]}')"
   ]
  },
  {
   "cell_type": "code",
   "execution_count": 6,
   "metadata": {},
   "outputs": [
    {
     "name": "stdout",
     "output_type": "stream",
     "text": [
      "Human aximum flow value is: 29.0 for pair of vertices: rPEp_to_lPEp\n"
     ]
    }
   ],
   "source": [
    "h_max_flow = get_max_flow(human_graph)\n",
    "print(f'Human aximum flow value is: {str(h_max_flow[0][0])} for pair of vertices: {h_label[h_max_flow[0][1]]}_to_{h_label[h_max_flow[0][2]]}')"
   ]
  },
  {
   "cell_type": "code",
   "execution_count": 15,
   "metadata": {},
   "outputs": [
    {
     "name": "stdout",
     "output_type": "stream",
     "text": [
      "[0, 0, 0, 0, 0, 101, 39, 0, 52, 0, 4064, 0, 0, 0, 0, 1267]\n",
      "The most frequent 4-motiff for the chimpanzees are the isomorphism class(0-indexed) :  125\n",
      "[0, 0, 0, 0, 0, 105, 88, 0, 102, 0, 4436, 0, 0, 0, 0, 1493]\n",
      "The most frequent 3-motiff for the chimpanzees are the isomorphism class(0-indexed) :  10\n",
      "[    0     0     0     0     0     0     0     0     0     0     0     0\n",
      "     0     0     0     0     0     0     0     0     0     0     0     0\n",
      "     0     0   149     0     0     0     0     0     0     0     0     0\n",
      "     0     0     0     0     0     0     0   760     0     0   910     0\n",
      "     0     0   789     0     0     0     0     0     0     0     0     0\n",
      "     0     0     0     0     0   219     0     0     0     0     0     0\n",
      "     0    49     0   174   132     0     0   435     0     0     0     0\n",
      "     0     0   318     0     0     0     0   255     0     0  8099     0\n",
      "     0     0     0     0     0     0     0     0     0     0     0     0\n",
      "     0     0     0     0     0     0     0     0     0     0     0     0\n",
      "     0     0     0     0     0 29809     0     0     0     0     0     0\n",
      "     0     0     0     0     0     0     0     0     0     0 22215     0\n",
      "     0     0     0     0     0     0     0     0     0     0     0     0\n",
      "     0     0     0     0     0     0     0     0     0     0     0     0\n",
      "     0     0     0     0     0     0     0     0     0     0     0     0\n",
      "     0     0     0     0     0     0     0     0     0     0     0     0\n",
      "     0     0     0     0     0     0     0     0     0     0     0  1120\n",
      "     0  6479     0     0     0     0     0     0     0     0     0     0\n",
      "     0  2125]\n",
      "The most frequent 4-motiff for the chimpanzees are the isomorphism class(0-indexed) :  125\n"
     ]
    }
   ],
   "source": [
    "motiff = get_motifs(chimp_graph, 3)\n",
    "print(motiff.tolist())\n",
    "\n",
    "# print(get_motifs(chimp_graph, 4))\n",
    "max_motiff = np.argmax(get_motifs(chimp_graph, 4))\n",
    "print(\"The most frequent 4-motiff for the chimpanzees are the isomorphism class(0-indexed) : \", max_motiff)\n",
    "\n",
    "motiff = get_motifs(human_graph, 3)\n",
    "print(motiff.tolist())\n",
    "max_motiff = np.argmax(get_motifs(human_graph, 3))\n",
    "print(\"The most frequent 3-motiff for the chimpanzees are the isomorphism class(0-indexed) : \", max_motiff)\n",
    "\n",
    "print(get_motifs(human_graph, 4))\n",
    "\n",
    "max_motiff = np.argmax(get_motifs(human_graph, 4))\n",
    "print(\"The most frequent 4-motiff for the chimpanzees are the isomorphism class(0-indexed) : \", max_motiff)\n"
   ]
  },
  {
   "cell_type": "code",
   "execution_count": null,
   "metadata": {},
   "outputs": [],
   "source": []
  }
 ],
 "metadata": {
  "kernelspec": {
   "display_name": "Python 3",
   "language": "python",
   "name": "python3"
  },
  "language_info": {
   "codemirror_mode": {
    "name": "ipython",
    "version": 3
   },
   "file_extension": ".py",
   "mimetype": "text/x-python",
   "name": "python",
   "nbconvert_exporter": "python",
   "pygments_lexer": "ipython3",
   "version": "3.7.9"
  }
 },
 "nbformat": 4,
 "nbformat_minor": 4
}
