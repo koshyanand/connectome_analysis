{
 "cells": [
  {
   "cell_type": "code",
   "execution_count": 9,
   "metadata": {},
   "outputs": [],
   "source": [
    "# !apt-get install libcairo2-dev libjpeg-dev libgif-dev\n",
    "# !pip install pycairo\n",
    "# !pip install python-igraph\n",
    "# !pip install matplotlib"
   ]
  },
  {
   "cell_type": "code",
   "execution_count": 3,
   "metadata": {},
   "outputs": [],
   "source": [
    "import pandas as pd\n",
    "import matplotlib.pyplot as plt\n",
    "import numpy as np\n",
    "import igraph as ig"
   ]
  },
  {
   "cell_type": "code",
   "execution_count": 20,
   "metadata": {},
   "outputs": [],
   "source": [
    "# path : Path of text file containing adj matrix\n",
    "# dim : Dimention of the adj matrix\n",
    "def create_adj_matrix(path, dim):\n",
    "    adj_matrix = [[0 for x in range(dim)] for y in range(dim)] \n",
    "    \n",
    "    f = open(path, \"r\")\n",
    "    i = 0;\n",
    "    for row in f:\n",
    "        values = row.split(\"\\t\")\n",
    "        \n",
    "        for j, val in enumerate(values):\n",
    "            if val == \"1\":\n",
    "                adj_matrix[i][j] = 1\n",
    "        i += 1\n",
    "    return adj_matrix"
   ]
  },
  {
   "cell_type": "code",
   "execution_count": 21,
   "metadata": {},
   "outputs": [],
   "source": [
    "data_root = \"data/\"\n",
    "description = \"regionDescriptions_short.txt\"\n",
    "human = \"./data/human/\"\n",
    "chimp = \"./data/chimpanzee/\"\n",
    "\n",
    "chimp_adj_matrix = create_adj_matrix(chimp + \"chimpanzee_60.txt\", 72)\n",
    "human_adj_matrix = create_adj_matrix(human + \"human_60.txt\", 72)\n",
    "\n",
    "# df_chimp_header = pd.read_csv(chimp + description, sep='\\t')               \n",
    "# df_human_header = pd.read_csv(human + description, sep='\\t')               \n",
    "  "
   ]
  },
  {
   "cell_type": "code",
   "execution_count": null,
   "metadata": {},
   "outputs": [],
   "source": []
  }
 ],
 "metadata": {
  "kernelspec": {
   "display_name": "Python 3",
   "language": "python",
   "name": "python3"
  },
  "language_info": {
   "codemirror_mode": {
    "name": "ipython",
    "version": 3
   },
   "file_extension": ".py",
   "mimetype": "text/x-python",
   "name": "python",
   "nbconvert_exporter": "python",
   "pygments_lexer": "ipython3",
   "version": "3.7.9"
  }
 },
 "nbformat": 4,
 "nbformat_minor": 4
}
