{
 "cells": [
  {
   "cell_type": "code",
   "execution_count": 6,
   "metadata": {},
   "outputs": [
    {
     "name": "stdout",
     "output_type": "stream",
     "text": [
      "Requirement already satisfied: pycairo in /home/koshyanand/miniconda3/envs/ncb/lib/python3.7/site-packages (1.20.0)\n",
      "Requirement already satisfied: python-igraph in /home/koshyanand/miniconda3/envs/ncb/lib/python3.7/site-packages (0.8.3)\n",
      "Requirement already satisfied: texttable>=1.6.2 in /home/koshyanand/miniconda3/envs/ncb/lib/python3.7/site-packages (from python-igraph) (1.6.3)\n",
      "Requirement already satisfied: networkx in /home/koshyanand/miniconda3/envs/ncb/lib/python3.7/site-packages (2.5)\n",
      "Requirement already satisfied: decorator>=4.3.0 in /home/koshyanand/miniconda3/envs/ncb/lib/python3.7/site-packages (from networkx) (4.4.2)\n",
      "Collecting matplotlib\n",
      "  Downloading matplotlib-3.3.2-cp37-cp37m-manylinux1_x86_64.whl (11.6 MB)\n",
      "\u001b[K     |████████████████████████████████| 11.6 MB 8.3 MB/s eta 0:00:01\n",
      "\u001b[?25hCollecting kiwisolver>=1.0.1\n",
      "  Downloading kiwisolver-1.3.1-cp37-cp37m-manylinux1_x86_64.whl (1.1 MB)\n",
      "\u001b[K     |████████████████████████████████| 1.1 MB 5.6 MB/s eta 0:00:01\n",
      "\u001b[?25hRequirement already satisfied: numpy>=1.15 in /home/koshyanand/miniconda3/envs/ncb/lib/python3.7/site-packages (from matplotlib) (1.19.4)\n",
      "Requirement already satisfied: certifi>=2020.06.20 in /home/koshyanand/miniconda3/envs/ncb/lib/python3.7/site-packages (from matplotlib) (2020.6.20)\n",
      "Requirement already satisfied: python-dateutil>=2.1 in /home/koshyanand/miniconda3/envs/ncb/lib/python3.7/site-packages (from matplotlib) (2.8.1)\n",
      "Collecting pillow>=6.2.0\n",
      "  Downloading Pillow-8.0.1-cp37-cp37m-manylinux1_x86_64.whl (2.2 MB)\n",
      "\u001b[K     |████████████████████████████████| 2.2 MB 9.2 MB/s eta 0:00:01\n",
      "\u001b[?25hRequirement already satisfied: pyparsing!=2.0.4,!=2.1.2,!=2.1.6,>=2.0.3 in /home/koshyanand/miniconda3/envs/ncb/lib/python3.7/site-packages (from matplotlib) (2.4.7)\n",
      "Collecting cycler>=0.10\n",
      "  Downloading cycler-0.10.0-py2.py3-none-any.whl (6.5 kB)\n",
      "Requirement already satisfied: six>=1.5 in /home/koshyanand/miniconda3/envs/ncb/lib/python3.7/site-packages (from python-dateutil>=2.1->matplotlib) (1.15.0)\n",
      "Installing collected packages: kiwisolver, pillow, cycler, matplotlib\n",
      "Successfully installed cycler-0.10.0 kiwisolver-1.3.1 matplotlib-3.3.2 pillow-8.0.1\n"
     ]
    }
   ],
   "source": [
    "# !apt-get install libcairo2-dev libjpeg-dev libgif-dev\n",
    "!pip install pycairo\n",
    "!pip install python-igraph\n",
    "!pip install networkx\n",
    "!pip install matplotlib"
   ]
  },
  {
   "cell_type": "code",
   "execution_count": 4,
   "metadata": {},
   "outputs": [],
   "source": [
    "import pandas as pd\n",
    "import matplotlib.pyplot as plt\n",
    "import numpy as np\n",
    "import networkx as nx, igraph as ig"
   ]
  },
  {
   "cell_type": "code",
   "execution_count": 5,
   "metadata": {},
   "outputs": [],
   "source": [
    "# Code to load networkx gpickle files to ipython\n",
    "g = nx.planted_partition_graph(5, 5, 0.9, 0.1, seed=3)\n",
    "\n",
    "# convert via edge list\n",
    "g1 = ig.Graph(len(g), list(zip(*list(zip(*nx.to_edgelist(g)))[:2])))\n",
    "  # nx.to_edgelist(g) returns [(0, 1, {}), (0, 2, {}), ...], which is turned\n",
    "  #  into [(0, 1), (0, 2), ...] for igraph\n",
    "\n",
    "# convert via adjacency matrix\n",
    "g2 = ig.Graph.Adjacency((nx.to_numpy_matrix(g) > 0).tolist())\n",
    "\n",
    "assert g1.get_adjacency() == g2.get_adjacency()"
   ]
  },
  {
   "cell_type": "code",
   "execution_count": null,
   "metadata": {},
   "outputs": [],
   "source": []
  }
 ],
 "metadata": {
  "kernelspec": {
   "display_name": "Python 3",
   "language": "python",
   "name": "python3"
  },
  "language_info": {
   "codemirror_mode": {
    "name": "ipython",
    "version": 3
   },
   "file_extension": ".py",
   "mimetype": "text/x-python",
   "name": "python",
   "nbconvert_exporter": "python",
   "pygments_lexer": "ipython3",
   "version": "3.7.9"
  }
 },
 "nbformat": 4,
 "nbformat_minor": 4
}
